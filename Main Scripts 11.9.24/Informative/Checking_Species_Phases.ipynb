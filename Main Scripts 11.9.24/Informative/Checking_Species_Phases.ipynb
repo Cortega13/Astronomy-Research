{
 "cells": [
  {
   "cell_type": "code",
   "execution_count": 1,
   "metadata": {},
   "outputs": [],
   "source": [
    "import os\n",
    "import numpy as np\n",
    "import pandas as pd\n",
    "from datetime import datetime\n",
    "from joblib import load\n",
    "\n",
    "\n",
    "WORKING_PATH = \"C:/Users/carlo/Projects/Astronomy Research/\"\n",
    "\n",
    "METADATA = [\"Time\", \"Model\"] \n",
    "PHYSICAL_PARAMETERS = np.loadtxt(os.path.join(WORKING_PATH, \"Main Scripts 11.9.24/utils/physical_parameters.txt\"), dtype=str, delimiter=\" \").tolist()\n",
    "TOTAL_SPECIES = np.loadtxt(os.path.join(WORKING_PATH, \"Main Scripts 11.9.24/utils/species.txt\"), dtype=str, delimiter=\" \").tolist()"
   ]
  },
  {
   "cell_type": "code",
   "execution_count": 7,
   "metadata": {},
   "outputs": [
    {
     "name": "stdout",
     "output_type": "stream",
     "text": [
      "83 ['AtC', 'AtC2', 'AtC2H', 'AtC2H2', 'AtC2H3', 'AtC2H4', 'AtC2H5', 'AtC2N', 'AtC3H2', 'AtC3N', 'AtC4H', 'AtC4N', 'AtCH', 'AtCH2', 'AtCH2CO', 'AtCH2OH', 'AtCH3', 'AtCH3CCH', 'AtCH3CHO', 'AtCH3CN', 'AtCH3CNH', 'AtCH3OH', 'AtCH4', 'AtCL', 'AtCN', 'AtCO', 'AtCO2', 'AtCS', 'AtH', 'AtH2', 'AtH2CN', 'AtH2CO', 'AtH2CS', 'AtH2O', 'AtH2S', 'AtH2S2', 'AtH2SIO', 'AtH3CO', 'AtHC3N', 'AtHCL', 'AtHCN', 'AtHCO', 'AtHCOO', 'AtHCOOH', 'AtHCS', 'AtHE', 'AtHNC', 'AtHNCO', 'AtHNO', 'AtHS', 'AtHS2', 'AtHSIO', 'AtMG', 'AtN', 'AtN2', 'AtNCCN', 'AtNH', 'AtNH2', 'AtNH2CHO', 'AtNH3', 'AtNO', 'AtNO2', 'AtNS', 'AtO', 'AtO2', 'AtO2H', 'AtOCN', 'AtOCS', 'AtOH', 'AtS', 'AtS2', 'AtSI', 'AtSIC', 'AtSIC2', 'AtSIC3', 'AtSIH', 'AtSIH2', 'AtSIH3', 'AtSIH4', 'AtSIO', 'AtSIS', 'AtSO', 'AtSO2']\n",
      "83 ['NumC', 'NumC2', 'NumC2H', 'NumC2H2', 'NumC2H3', 'NumC2H4', 'NumC2H5', 'NumC2N', 'NumC3H2', 'NumC3N', 'NumC4H', 'NumC4N', 'NumCH', 'NumCH2', 'NumCH2CO', 'NumCH2OH', 'NumCH3', 'NumCH3CCH', 'NumCH3CHO', 'NumCH3CN', 'NumCH3CNH', 'NumCH3OH', 'NumCH4', 'NumCL', 'NumCN', 'NumCO', 'NumCO2', 'NumCS', 'NumH', 'NumH2', 'NumH2CN', 'NumH2CO', 'NumH2CS', 'NumH2O', 'NumH2S', 'NumH2S2', 'NumH2SIO', 'NumH3CO', 'NumHC3N', 'NumHCL', 'NumHCN', 'NumHCO', 'NumHCOO', 'NumHCOOH', 'NumHCS', 'NumHE', 'NumHNC', 'NumHNCO', 'NumHNO', 'NumHS', 'NumHS2', 'NumHSIO', 'NumMG', 'NumN', 'NumN2', 'NumNCCN', 'NumNH', 'NumNH2', 'NumNH2CHO', 'NumNH3', 'NumNO', 'NumNO2', 'NumNS', 'NumO', 'NumO2', 'NumO2H', 'NumOCN', 'NumOCS', 'NumOH', 'NumS', 'NumS2', 'NumSI', 'NumSIC', 'NumSIC2', 'NumSIC3', 'NumSIH', 'NumSIH2', 'NumSIH3', 'NumSIH4', 'NumSIO', 'NumSIS', 'NumSO', 'NumSO2']\n",
      "166 ['C', 'C2', 'C2H', 'C2H2', 'C2H2Plus', 'C2H3', 'C2H4', 'C2H5', 'C2HPlus', 'C2N', 'C2N2Plus', 'C2NHPlus', 'C2NPlus', 'C2Plus', 'C3H2', 'C3H5Plus', 'C3N', 'C3Plus', 'C4H', 'C4N', 'C4NPlus', 'CH', 'CH2', 'CH2CO', 'CH2OH', 'CH2Plus', 'CH3', 'CH3CCH', 'CH3CHO', 'CH3CN', 'CH3CNH', 'CH3CNHPlus', 'CH3OH', 'CH3OH2Plus', 'CH3Plus', 'CH4', 'CH4Plus', 'CH5Plus', 'CHPlus', 'CL', 'CLPlus', 'CN', 'CNPlus', 'CO', 'CO2', 'COPlus', 'CPlus', 'CS', 'CSPlus', 'H', 'H2', 'H2CLPlus', 'H2CN', 'H2CO', 'H2COPlus', 'H2CS', 'H2CSPlus', 'H2NOPlus', 'H2O', 'H2OPlus', 'H2Plus', 'H2S', 'H2S2', 'H2S2Plus', 'H2SIO', 'H2SPlus', 'H3CO', 'H3COPlus', 'H3CSPlus', 'H3OPlus', 'H3Plus', 'H3SPlus', 'HC3N', 'HCL', 'HCLPlus', 'HCN', 'HCNHPlus', 'HCNPlus', 'HCO', 'HCO2Plus', 'HCOO', 'HCOOH', 'HCOPlus', 'HCS', 'HCSPlus', 'HE', 'HEHPlus', 'HEPlus', 'HNC', 'HNCO', 'HNO', 'HNOPlus', 'HNSPlus', 'HOCPlus', 'HOCSPlus', 'HPlus', 'HS', 'HS2', 'HS2Plus', 'HSIO', 'HSISPlus', 'HSO2Plus', 'HSOPlus', 'HSPlus', 'MG', 'MGPlus', 'N', 'N2', 'N2HPlus', 'N2Plus', 'NCCN', 'NH', 'NH2', 'NH2CHO', 'NH2Plus', 'NH3', 'NH3Plus', 'NH4Plus', 'NHPlus', 'NO', 'NO2', 'NOPlus', 'NPlus', 'NS', 'NSPlus', 'O', 'O2', 'O2H', 'O2HPlus', 'O2Plus', 'OCN', 'OCS', 'OCSPlus', 'OH', 'OHPlus', 'OPlus', 'S', 'S2', 'S2Plus', 'SI', 'SIC', 'SIC2', 'SIC2Plus', 'SIC3', 'SIC3Plus', 'SICPlus', 'SIH', 'SIH2', 'SIH2Plus', 'SIH3', 'SIH3Plus', 'SIH4', 'SIH4Plus', 'SIH5Plus', 'SIHPlus', 'SIO', 'SIOHPlus', 'SIOPlus', 'SIPlus', 'SIS', 'SISPlus', 'SO', 'SO2', 'SO2Plus', 'SOPlus', 'SPlus']\n",
      "['AtC', 'AtC2', 'AtC2H', 'AtC2H2', 'AtC2H3', 'AtC2H4', 'AtC2H5', 'AtC2N', 'AtC3H2', 'AtC3N', 'AtC4H', 'AtC4N', 'AtCH', 'AtCH2', 'AtCH2CO', 'AtCH2OH', 'AtCH3', 'AtCH3CCH', 'AtCH3CHO', 'AtCH3CN', 'AtCH3CNH', 'AtCH3OH', 'AtCH4', 'AtCL', 'AtCN', 'AtCO', 'AtCO2', 'AtCS', 'AtH', 'AtH2', 'AtH2CN', 'AtH2CO', 'AtH2CS', 'AtH2O', 'AtH2S', 'AtH2S2', 'AtH2SIO', 'AtH3CO', 'AtHC3N', 'AtHCL', 'AtHCN', 'AtHCO', 'AtHCOO', 'AtHCOOH', 'AtHCS', 'AtHE', 'AtHNC', 'AtHNCO', 'AtHNO', 'AtHS', 'AtHS2', 'AtHSIO', 'AtMG', 'AtN', 'AtN2', 'AtNCCN', 'AtNH', 'AtNH2', 'AtNH2CHO', 'AtNH3', 'AtNO', 'AtNO2', 'AtNS', 'AtO', 'AtO2', 'AtO2H', 'AtOCN', 'AtOCS', 'AtOH', 'AtS', 'AtS2', 'AtSI', 'AtSIC', 'AtSIC2', 'AtSIC3', 'AtSIH', 'AtSIH2', 'AtSIH3', 'AtSIH4', 'AtSIO', 'AtSIS', 'AtSO', 'AtSO2', 'C', 'C2', 'C2H', 'C2H2', 'C2H2Plus', 'C2H3', 'C2H4', 'C2H5', 'C2HPlus', 'C2N', 'C2N2Plus', 'C2NHPlus', 'C2NPlus', 'C2Plus', 'C3H2', 'C3H5Plus', 'C3N', 'C3Plus', 'C4H', 'C4N', 'C4NPlus', 'CH', 'CH2', 'CH2CO', 'CH2OH', 'CH2Plus', 'CH3', 'CH3CCH', 'CH3CHO', 'CH3CN', 'CH3CNH', 'CH3CNHPlus', 'CH3OH', 'CH3OH2Plus', 'CH3Plus', 'CH4', 'CH4Plus', 'CH5Plus', 'CHPlus', 'CL', 'CLPlus', 'CN', 'CNPlus', 'CO', 'CO2', 'COPlus', 'CPlus', 'CS', 'CSPlus', 'H', 'H2', 'H2CLPlus', 'H2CN', 'H2CO', 'H2COPlus', 'H2CS', 'H2CSPlus', 'H2NOPlus', 'H2O', 'H2OPlus', 'H2Plus', 'H2S', 'H2S2', 'H2S2Plus', 'H2SIO', 'H2SPlus', 'H3CO', 'H3COPlus', 'H3CSPlus', 'H3OPlus', 'H3Plus', 'H3SPlus', 'HC3N', 'HCL', 'HCLPlus', 'HCN', 'HCNHPlus', 'HCNPlus', 'HCO', 'HCO2Plus', 'HCOO', 'HCOOH', 'HCOPlus', 'HCS', 'HCSPlus', 'HE', 'HEHPlus', 'HEPlus', 'HNC', 'HNCO', 'HNO', 'HNOPlus', 'HNSPlus', 'HOCPlus', 'HOCSPlus', 'HPlus', 'HS', 'HS2', 'HS2Plus', 'HSIO', 'HSISPlus', 'HSO2Plus', 'HSOPlus', 'HSPlus', 'MG', 'MGPlus', 'N', 'N2', 'N2HPlus', 'N2Plus', 'NCCN', 'NH', 'NH2', 'NH2CHO', 'NH2Plus', 'NH3', 'NH3Plus', 'NH4Plus', 'NHPlus', 'NO', 'NO2', 'NOPlus', 'NPlus', 'NS', 'NSPlus', 'NumC', 'NumC2', 'NumC2H', 'NumC2H2', 'NumC2H3', 'NumC2H4', 'NumC2H5', 'NumC2N', 'NumC3H2', 'NumC3N', 'NumC4H', 'NumC4N', 'NumCH', 'NumCH2', 'NumCH2CO', 'NumCH2OH', 'NumCH3', 'NumCH3CCH', 'NumCH3CHO', 'NumCH3CN', 'NumCH3CNH', 'NumCH3OH', 'NumCH4', 'NumCL', 'NumCN', 'NumCO', 'NumCO2', 'NumCS', 'NumH', 'NumH2', 'NumH2CN', 'NumH2CO', 'NumH2CS', 'NumH2O', 'NumH2S', 'NumH2S2', 'NumH2SIO', 'NumH3CO', 'NumHC3N', 'NumHCL', 'NumHCN', 'NumHCO', 'NumHCOO', 'NumHCOOH', 'NumHCS', 'NumHE', 'NumHNC', 'NumHNCO', 'NumHNO', 'NumHS', 'NumHS2', 'NumHSIO', 'NumMG', 'NumN', 'NumN2', 'NumNCCN', 'NumNH', 'NumNH2', 'NumNH2CHO', 'NumNH3', 'NumNO', 'NumNO2', 'NumNS', 'NumO', 'NumO2', 'NumO2H', 'NumOCN', 'NumOCS', 'NumOH', 'NumS', 'NumS2', 'NumSI', 'NumSIC', 'NumSIC2', 'NumSIC3', 'NumSIH', 'NumSIH2', 'NumSIH3', 'NumSIH4', 'NumSIO', 'NumSIS', 'NumSO', 'NumSO2', 'O', 'O2', 'O2H', 'O2HPlus', 'O2Plus', 'OCN', 'OCS', 'OCSPlus', 'OH', 'OHPlus', 'OPlus', 'S', 'S2', 'S2Plus', 'SI', 'SIC', 'SIC2', 'SIC2Plus', 'SIC3', 'SIC3Plus', 'SICPlus', 'SIH', 'SIH2', 'SIH2Plus', 'SIH3', 'SIH3Plus', 'SIH4', 'SIH4Plus', 'SIH5Plus', 'SIHPlus', 'SIO', 'SIOHPlus', 'SIOPlus', 'SIPlus', 'SIS', 'SISPlus', 'SO', 'SO2', 'SO2Plus', 'SOPlus', 'SPlus']\n"
     ]
    }
   ],
   "source": [
    "BULK = [species for species in TOTAL_SPECIES if \"At\" in species]\n",
    "SURFACE = [species for species in TOTAL_SPECIES if \"Num\" in species]\n",
    "GAS = [species for species in TOTAL_SPECIES if species not in BULK and species not in SURFACE]\n",
    "print(len(BULK), BULK)\n",
    "print(len(SURFACE), SURFACE)\n",
    "print(len(GAS), GAS)\n",
    "print(TOTAL_SPECIES)"
   ]
  },
  {
   "cell_type": "code",
   "execution_count": 8,
   "metadata": {},
   "outputs": [],
   "source": [
    "with open(os.path.join(WORKING_PATH, \"Main Scripts 11.9.24/utils/bulk_species.txt\"), \"w\") as file:\n",
    "    for species in BULK:\n",
    "        file.write(species + \"\\n\")"
   ]
  },
  {
   "cell_type": "code",
   "execution_count": 9,
   "metadata": {},
   "outputs": [],
   "source": [
    "with open(os.path.join(WORKING_PATH, \"Main Scripts 11.9.24/utils/surface_species.txt\"), \"w\") as file:\n",
    "    for species in SURFACE:\n",
    "        file.write(species + \"\\n\")"
   ]
  },
  {
   "cell_type": "code",
   "execution_count": 10,
   "metadata": {},
   "outputs": [],
   "source": [
    "with open(os.path.join(WORKING_PATH, \"Main Scripts 11.9.24/utils/gas_species.txt\"), \"w\") as file:\n",
    "    for species in GAS:\n",
    "        file.write(species + \"\\n\")"
   ]
  }
 ],
 "metadata": {
  "kernelspec": {
   "display_name": "Python 3",
   "language": "python",
   "name": "python3"
  },
  "language_info": {
   "codemirror_mode": {
    "name": "ipython",
    "version": 3
   },
   "file_extension": ".py",
   "mimetype": "text/x-python",
   "name": "python",
   "nbconvert_exporter": "python",
   "pygments_lexer": "ipython3",
   "version": "3.11.9"
  }
 },
 "nbformat": 4,
 "nbformat_minor": 2
}
