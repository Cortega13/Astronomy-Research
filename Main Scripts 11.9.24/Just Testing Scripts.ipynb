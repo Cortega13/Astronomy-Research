{
 "cells": [
  {
   "cell_type": "code",
   "execution_count": 3,
   "metadata": {},
   "outputs": [],
   "source": [
    "import numpy as np\n",
    "import pandas as pd\n",
    "import os\n",
    "WORKING_PATH = \"C:/Users/carlo/Projects/Astronomy Research/\""
   ]
  },
  {
   "cell_type": "code",
   "execution_count": null,
   "metadata": {},
   "outputs": [
    {
     "name": "stdout",
     "output_type": "stream",
     "text": [
      "['Density', 'Radfield', 'av', 'gasTemp']\n",
      "['Density', 'Radfield', 'av', 'gasTemp']\n",
      "['Density', 'Radfield', 'av', 'gasTemp']\n"
     ]
    }
   ],
   "source": [
    "METADATA = [\"Time\", \"Model\"]\n",
    "PHYSICAL_PARAMETERS = np.loadtxt(os.path.join(WORKING_PATH, \"Main Scripts 11.9.24/utils/physical_parameters.txt\"), dtype=str, delimiter=\" \").tolist()\n",
    "TOTAL_SPECIES = np.loadtxt(os.path.join(WORKING_PATH, \"Main Scripts 11.9.24/utils/species.txt\"), dtype=str, delimiter=\" \").tolist()"
   ]
  },
  {
   "cell_type": "code",
   "execution_count": 9,
   "metadata": {},
   "outputs": [
    {
     "name": "stdout",
     "output_type": "stream",
     "text": [
      "[1. 1. 1. 1. 1.]\n",
      "[    10    100   1000  10000 100000]\n",
      "[1. 2. 3. 4. 5.]\n"
     ]
    }
   ],
   "source": [
    "x = np.array([1,2,3,4,5])\n",
    "\n",
    "print(x/x)\n",
    "print(10**x)\n",
    "print(np.log10(10**x))"
   ]
  },
  {
   "cell_type": "code",
   "execution_count": 4,
   "metadata": {},
   "outputs": [
    {
     "name": "stdout",
     "output_type": "stream",
     "text": [
      "     Time   Density  gasTemp        av          HSIO         H          NumH  \\\n",
      "5   0.001  562340.0      5.0  0.048391  1.000000e-20  0.937004  4.182880e-07   \n",
      "6   0.010  562340.0      5.0  0.048391  1.000000e-20  0.937000  2.888030e-06   \n",
      "7   0.100  562340.0      5.0  0.048391  1.000000e-20  0.936960  4.878410e-06   \n",
      "8   1.000  562340.0      5.0  0.048391  1.000000e-20  0.936567  4.879020e-06   \n",
      "9  10.000  562340.0      5.0  0.048391  1.000000e-20  0.932640  4.878860e-06   \n",
      "\n",
      "          HPlus           AtH        H2  ...        NumHS2         AtHS2  \\\n",
      "5  1.000000e-20  1.902580e-08  0.031498  ...  1.000000e-20  1.000000e-20   \n",
      "6  1.000000e-20  1.485090e-06  0.031498  ...  1.000000e-20  1.000000e-20   \n",
      "7  1.000000e-20  3.885190e-05  0.031497  ...  1.000000e-20  1.000000e-20   \n",
      "8  1.000000e-20  4.323320e-04  0.031489  ...  1.000000e-20  1.000000e-20   \n",
      "9  1.000000e-20  4.358060e-03  0.031408  ...  1.000000e-20  1.000000e-20   \n",
      "\n",
      "       H2S2Plus          H2S2       NumH2S2        AtH2S2          BULK  \\\n",
      "5  1.000000e-20  1.000000e-20  1.000000e-20  1.000000e-20  1.942580e-08   \n",
      "6  1.000000e-20  1.000000e-20  1.000000e-20  1.000000e-20  1.516310e-06   \n",
      "7  1.000000e-20  1.000000e-20  1.000000e-20  1.000000e-20  3.966880e-05   \n",
      "8  1.000000e-20  1.000000e-20  1.000000e-20  1.000000e-20  4.414230e-04   \n",
      "9  1.000000e-20  1.000000e-20  1.000000e-20  1.000000e-20  4.449770e-03   \n",
      "\n",
      "        SURFACE  Radfield  Model  \n",
      "5  4.270820e-07  17.09976      1  \n",
      "6  2.948750e-06  17.09976      1  \n",
      "7  4.980980e-06  17.09976      1  \n",
      "8  4.981620e-06  17.09976      1  \n",
      "9  4.981620e-06  17.09976      1  \n",
      "\n",
      "[5 rows x 340 columns]\n"
     ]
    }
   ],
   "source": [
    "df = pd.read_hdf(os.path.join(WORKING_PATH, \"Datasets/training.h5\"), \"autoencoder\", start=0, stop=1000)\n",
    "print(df.head())"
   ]
  },
  {
   "cell_type": "code",
   "execution_count": 30,
   "metadata": {},
   "outputs": [
    {
     "data": {
      "text/plain": [
       "BULK        9.696550e-01\n",
       "AtH         9.388380e-01\n",
       "HE          1.000000e-01\n",
       "av          4.839100e-02\n",
       "AtH2        3.030410e-02\n",
       "                ...     \n",
       "HNO         1.000000e-20\n",
       "HNOPlus     1.000000e-20\n",
       "SIH3        1.000000e-20\n",
       "SIH3Plus    1.000000e-20\n",
       "SIH4        1.000000e-20\n",
       "Name: 20, Length: 335, dtype: float64"
      ]
     },
     "execution_count": 30,
     "metadata": {},
     "output_type": "execute_result"
    }
   ],
   "source": [
    "df.reset_index().loc[20].sort_values(ascending=False)[6:]"
   ]
  },
  {
   "cell_type": "code",
   "execution_count": 2,
   "metadata": {},
   "outputs": [
    {
     "name": "stdout",
     "output_type": "stream",
     "text": [
      "Pair 0:\n",
      "    A   B  pair_group\n",
      "0  1  11           0\n",
      "1  2  12           0 \n",
      "\n",
      "Pair 1:\n",
      "    A   B  pair_group\n",
      "2  3  13           1\n",
      "3  4  14           1 \n",
      "\n",
      "Pair 2:\n",
      "    A   B  pair_group\n",
      "4  5  15           2\n",
      "5  6  16           2 \n",
      "\n",
      "Pair 3:\n",
      "    A   B  pair_group\n",
      "6  7  17           3\n",
      "7  8  18           3 \n",
      "\n",
      "Pair 4:\n",
      "     A   B  pair_group\n",
      "8   9  19           4\n",
      "9  10  20           4 \n",
      "\n"
     ]
    }
   ],
   "source": [
    "import pandas as pd\n",
    "\n",
    "data = {'A': range(1, 11), 'B': range(11, 21)}\n",
    "df = pd.DataFrame(data)\n",
    "\n",
    "df['pair_group'] = df.index // 2\n",
    "\n",
    "grouped = df.groupby('pair_group')\n",
    "\n",
    "pair_means = grouped.mean()\n",
    "\n",
    "for name, group in grouped:\n",
    "    print(f\"Pair {name}:\\n\", group, \"\\n\")\n"
   ]
  },
  {
   "cell_type": "code",
   "execution_count": null,
   "metadata": {},
   "outputs": [
    {
     "name": "stdout",
     "output_type": "stream",
     "text": [
      "[-20.]\n"
     ]
    },
    {
     "data": {
      "text/html": [
       "<div>\n",
       "<style scoped>\n",
       "    .dataframe tbody tr th:only-of-type {\n",
       "        vertical-align: middle;\n",
       "    }\n",
       "\n",
       "    .dataframe tbody tr th {\n",
       "        vertical-align: top;\n",
       "    }\n",
       "\n",
       "    .dataframe thead th {\n",
       "        text-align: right;\n",
       "    }\n",
       "</style>\n",
       "<table border=\"1\" class=\"dataframe\">\n",
       "  <thead>\n",
       "    <tr style=\"text-align: right;\">\n",
       "      <th></th>\n",
       "      <th>Time</th>\n",
       "      <th>Density</th>\n",
       "      <th>gasTemp</th>\n",
       "      <th>av</th>\n",
       "      <th>HSIO</th>\n",
       "      <th>H</th>\n",
       "      <th>NumH</th>\n",
       "      <th>HPlus</th>\n",
       "      <th>AtH</th>\n",
       "      <th>H2</th>\n",
       "      <th>...</th>\n",
       "      <th>NumHS2</th>\n",
       "      <th>AtHS2</th>\n",
       "      <th>H2S2Plus</th>\n",
       "      <th>H2S2</th>\n",
       "      <th>NumH2S2</th>\n",
       "      <th>AtH2S2</th>\n",
       "      <th>BULK</th>\n",
       "      <th>SURFACE</th>\n",
       "      <th>Radfield</th>\n",
       "      <th>Model</th>\n",
       "    </tr>\n",
       "  </thead>\n",
       "  <tbody>\n",
       "    <tr>\n",
       "      <th>91</th>\n",
       "      <td>0.932207</td>\n",
       "      <td>1.0</td>\n",
       "      <td>0.803843</td>\n",
       "      <td>0.725622</td>\n",
       "      <td>0.0</td>\n",
       "      <td>0.697473</td>\n",
       "      <td>0.569102</td>\n",
       "      <td>0.0</td>\n",
       "      <td>0.775466</td>\n",
       "      <td>0.666549</td>\n",
       "      <td>...</td>\n",
       "      <td>0.0</td>\n",
       "      <td>0.0</td>\n",
       "      <td>0.0</td>\n",
       "      <td>0.0</td>\n",
       "      <td>0.0</td>\n",
       "      <td>0.0</td>\n",
       "      <td>0.775995</td>\n",
       "      <td>0.570772</td>\n",
       "      <td>0.824582</td>\n",
       "      <td>0.776699</td>\n",
       "    </tr>\n",
       "    <tr>\n",
       "      <th>92</th>\n",
       "      <td>0.933799</td>\n",
       "      <td>1.0</td>\n",
       "      <td>0.803843</td>\n",
       "      <td>0.725622</td>\n",
       "      <td>0.0</td>\n",
       "      <td>0.690280</td>\n",
       "      <td>0.568910</td>\n",
       "      <td>0.0</td>\n",
       "      <td>0.775525</td>\n",
       "      <td>0.661117</td>\n",
       "      <td>...</td>\n",
       "      <td>0.0</td>\n",
       "      <td>0.0</td>\n",
       "      <td>0.0</td>\n",
       "      <td>0.0</td>\n",
       "      <td>0.0</td>\n",
       "      <td>0.0</td>\n",
       "      <td>0.776059</td>\n",
       "      <td>0.570772</td>\n",
       "      <td>0.824582</td>\n",
       "      <td>0.776699</td>\n",
       "    </tr>\n",
       "    <tr>\n",
       "      <th>93</th>\n",
       "      <td>0.935254</td>\n",
       "      <td>1.0</td>\n",
       "      <td>0.803843</td>\n",
       "      <td>0.725622</td>\n",
       "      <td>0.0</td>\n",
       "      <td>0.683377</td>\n",
       "      <td>0.568727</td>\n",
       "      <td>0.0</td>\n",
       "      <td>0.775563</td>\n",
       "      <td>0.655661</td>\n",
       "      <td>...</td>\n",
       "      <td>0.0</td>\n",
       "      <td>0.0</td>\n",
       "      <td>0.0</td>\n",
       "      <td>0.0</td>\n",
       "      <td>0.0</td>\n",
       "      <td>0.0</td>\n",
       "      <td>0.776101</td>\n",
       "      <td>0.570772</td>\n",
       "      <td>0.824582</td>\n",
       "      <td>0.776699</td>\n",
       "    </tr>\n",
       "    <tr>\n",
       "      <th>94</th>\n",
       "      <td>0.936593</td>\n",
       "      <td>1.0</td>\n",
       "      <td>0.803843</td>\n",
       "      <td>0.725622</td>\n",
       "      <td>0.0</td>\n",
       "      <td>0.676863</td>\n",
       "      <td>0.568569</td>\n",
       "      <td>0.0</td>\n",
       "      <td>0.775588</td>\n",
       "      <td>0.650211</td>\n",
       "      <td>...</td>\n",
       "      <td>0.0</td>\n",
       "      <td>0.0</td>\n",
       "      <td>0.0</td>\n",
       "      <td>0.0</td>\n",
       "      <td>0.0</td>\n",
       "      <td>0.0</td>\n",
       "      <td>0.776128</td>\n",
       "      <td>0.570772</td>\n",
       "      <td>0.824582</td>\n",
       "      <td>0.776699</td>\n",
       "    </tr>\n",
       "    <tr>\n",
       "      <th>95</th>\n",
       "      <td>0.937834</td>\n",
       "      <td>1.0</td>\n",
       "      <td>0.803843</td>\n",
       "      <td>0.725622</td>\n",
       "      <td>0.0</td>\n",
       "      <td>0.670857</td>\n",
       "      <td>0.568451</td>\n",
       "      <td>0.0</td>\n",
       "      <td>0.775604</td>\n",
       "      <td>0.644802</td>\n",
       "      <td>...</td>\n",
       "      <td>0.0</td>\n",
       "      <td>0.0</td>\n",
       "      <td>0.0</td>\n",
       "      <td>0.0</td>\n",
       "      <td>0.0</td>\n",
       "      <td>0.0</td>\n",
       "      <td>0.776145</td>\n",
       "      <td>0.570772</td>\n",
       "      <td>0.824582</td>\n",
       "      <td>0.776699</td>\n",
       "    </tr>\n",
       "  </tbody>\n",
       "</table>\n",
       "<p>5 rows × 340 columns</p>\n",
       "</div>"
      ],
      "text/plain": [
       "        Time  Density   gasTemp        av  HSIO         H      NumH  HPlus  \\\n",
       "91  0.932207      1.0  0.803843  0.725622   0.0  0.697473  0.569102    0.0   \n",
       "92  0.933799      1.0  0.803843  0.725622   0.0  0.690280  0.568910    0.0   \n",
       "93  0.935254      1.0  0.803843  0.725622   0.0  0.683377  0.568727    0.0   \n",
       "94  0.936593      1.0  0.803843  0.725622   0.0  0.676863  0.568569    0.0   \n",
       "95  0.937834      1.0  0.803843  0.725622   0.0  0.670857  0.568451    0.0   \n",
       "\n",
       "         AtH        H2  ...  NumHS2  AtHS2  H2S2Plus  H2S2  NumH2S2  AtH2S2  \\\n",
       "91  0.775466  0.666549  ...     0.0    0.0       0.0   0.0      0.0     0.0   \n",
       "92  0.775525  0.661117  ...     0.0    0.0       0.0   0.0      0.0     0.0   \n",
       "93  0.775563  0.655661  ...     0.0    0.0       0.0   0.0      0.0     0.0   \n",
       "94  0.775588  0.650211  ...     0.0    0.0       0.0   0.0      0.0     0.0   \n",
       "95  0.775604  0.644802  ...     0.0    0.0       0.0   0.0      0.0     0.0   \n",
       "\n",
       "        BULK   SURFACE  Radfield     Model  \n",
       "91  0.775995  0.570772  0.824582  0.776699  \n",
       "92  0.776059  0.570772  0.824582  0.776699  \n",
       "93  0.776101  0.570772  0.824582  0.776699  \n",
       "94  0.776128  0.570772  0.824582  0.776699  \n",
       "95  0.776145  0.570772  0.824582  0.776699  \n",
       "\n",
       "[5 rows x 340 columns]"
      ]
     },
     "execution_count": 7,
     "metadata": {},
     "output_type": "execute_result"
    }
   ],
   "source": [
    "import pandas as pd\n",
    "from sklearn.preprocessing import MinMaxScaler\n",
    "\n",
    "df = pd.read_hdf(os.path.join(WORKING_PATH, \"Datasets/training.h5\"), \"emulator\", start=0, stop=5)\n",
    "\n",
    "df = np.log10(df)\n",
    "\n",
    "global_min = df.min().min()  # minimum value across all columns\n",
    "global_max = df.max().max()  # maximum value across all columns\n",
    "\n",
    "#scaled_df = (df - global_min) / (global_max - global_min)\n",
    "\n",
    "\n",
    "scaler = MinMaxScaler(feature_range=(0, 1))\n",
    "scaler.fit(\n",
    "    np.array([global_min, global_max]).reshape(-1, 1)\n",
    ")\n",
    "print(scaler.data_min_)\n",
    "\n",
    "\n",
    "\n",
    "scaled_df"
   ]
  },
  {
   "cell_type": "code",
   "execution_count": 14,
   "metadata": {},
   "outputs": [
    {
     "data": {
      "text/plain": [
       "['Component_1',\n",
       " 'Component_2',\n",
       " 'Component_3',\n",
       " 'Component_4',\n",
       " 'Component_5',\n",
       " 'Component_6',\n",
       " 'Component_7',\n",
       " 'Component_8',\n",
       " 'Component_9',\n",
       " 'Component_10',\n",
       " 'Component_11']"
      ]
     },
     "execution_count": 14,
     "metadata": {},
     "output_type": "execute_result"
    }
   ],
   "source": [
    "components = [f\"Component_{num}\" for num in range(1, 12)]\n",
    "components"
   ]
  },
  {
   "cell_type": "code",
   "execution_count": 2,
   "metadata": {},
   "outputs": [],
   "source": [
    "\"\"\"\n",
    "\n",
    "INPUT: training.h5, validation.h5, abundances.scalers\n",
    "OUTPUT: autoencoder.pth\n",
    "\"\"\"\n",
    "\n",
    "import os\n",
    "import numpy as np\n",
    "import pandas as pd\n",
    "from datetime import datetime\n",
    "from joblib import load\n",
    "import torch\n",
    "from torch import nn, optim, multiprocessing as mp\n",
    "from torch.cuda.amp import GradScaler, autocast\n",
    "from torch.distributed import init_process_group, destroy_process_group\n",
    "from torch.nn.parallel import DistributedDataParallel as DDP\n",
    "from torch.utils.data import DataLoader, DistributedSampler\n",
    "\n",
    "### Configurations\n",
    "WORKING_PATH = \"C:/Users/carlo/Projects/Astronomy Research/\"\n",
    "HP = {\n",
    "    \"encoded_dimensions\": 11,\n",
    "    \"learning_rate\": 0.001,\n",
    "    \"weight_decay\": 0,\n",
    "    \"batch_size\": 2*4096,\n",
    "    \"shuffle\": True,\n",
    "    \"gradient_clipping\": 100,\n",
    "    \"early_stopping_tolerance\": 7,\n",
    "    \"max_epochs\": 999999,\n",
    "    \"hidden_layer\": 5\n",
    "}\n",
    "\n",
    "METADATA = [\"Time\", \"Model\"] \n",
    "PHYSICAL_PARAMETERS = np.loadtxt(os.path.join(WORKING_PATH, \"Main Scripts 11.9.24/utils/physical_parameters.txt\"), dtype=str, delimiter=\" \").tolist()\n",
    "TOTAL_SPECIES = np.loadtxt(os.path.join(WORKING_PATH, \"Main Scripts 11.9.24/utils/species.txt\"), dtype=str, delimiter=\" \").tolist()\n",
    "\n",
    "\n",
    "### Data Processing Functions\n",
    "def load_datasets(path):\n",
    "    training_dataset_path = os.path.join(path, \"Datasets/training.h5\")\n",
    "    validation_dataset_path = os.path.join(path, \"Datasets/validation.h5\")\n",
    "\n",
    "    training_dataset = pd.read_hdf(training_dataset_path, \"autoencoder\", start=0, stop=1000).astype(np.float32)\n",
    "    validation_dataset = pd.read_hdf(validation_dataset_path, \"autoencoder\", start=0, stop=1000).astype(np.float32)\n",
    "\n",
    "    training_dataset = training_dataset[TOTAL_SPECIES]\n",
    "    validation_dataset = validation_dataset[TOTAL_SPECIES]\n",
    "\n",
    "    return training_dataset, validation_dataset\n",
    "\n",
    "\n",
    "def autoencoder_preprocessing(abundances_features):\n",
    "    ### Preprocesses the data for the autoencoder training. Returns a dataloader.\n",
    "    print(\"Starting Encoder Preprocessing.\")\n",
    "\n",
    "    # Created using only the training data.\n",
    "    scalers = load(os.path.join(WORKING_PATH, \"Datasets/scalers.plk\"))\n",
    "    abundances_min, abundances_max = scalers[\"total_species\"]\n",
    "\n",
    "    # Log10 Scale Abundances and then MinMax scale.\n",
    "    abundances_features = np.log10(abundances_features, dtype=np.float32)\n",
    "\n",
    "    # Minmax scale all the abundances_features.\n",
    "    abundances_features = (abundances_features - abundances_min) / (abundances_max - abundances_min)\n",
    "\n",
    "\n",
    "    return abundances_features"
   ]
  },
  {
   "cell_type": "code",
   "execution_count": 32,
   "metadata": {},
   "outputs": [
    {
     "name": "stdout",
     "output_type": "stream",
     "text": [
      "Starting Encoder Preprocessing.\n"
     ]
    },
    {
     "data": {
      "text/plain": [
       "H         9.370000e-01\n",
       "HE        1.000000e-01\n",
       "H2        3.149790e-02\n",
       "O         3.340000e-04\n",
       "C         1.768810e-04\n",
       "              ...     \n",
       "COPlus    1.000000e-20\n",
       "CO2       1.000000e-20\n",
       "CO        1.000000e-20\n",
       "CNPlus    1.000000e-20\n",
       "HCS       1.000000e-20\n",
       "Name: 1, Length: 334, dtype: float32"
      ]
     },
     "execution_count": 32,
     "metadata": {},
     "output_type": "execute_result"
    }
   ],
   "source": [
    "WORKING_PATH = \"C:/Users/carlo/Projects/Astronomy Research/\"\n",
    "\n",
    "training_dataset, validation_dataset = load_datasets(WORKING_PATH)\n",
    "\n",
    "training = autoencoder_preprocessing(training_dataset)\n",
    "training_dataset\n",
    "row = training_dataset.loc[1]\n",
    "\n",
    "# Sort the values in decreasing order, placing NaN first\n",
    "sorted_row = row.sort_values(ascending=False, na_position='first')\n",
    "\n",
    "sorted_row"
   ]
  },
  {
   "cell_type": "code",
   "execution_count": null,
   "metadata": {},
   "outputs": [
    {
     "name": "stdout",
     "output_type": "stream",
     "text": [
      "{'Density': MinMaxScaler(), 'Radfield': MinMaxScaler(), 'av': MinMaxScaler(), 'gasTemp': MinMaxScaler(), 'total_species': (-20.0, 0.0), 'encoded_components': (0, 1)}\n"
     ]
    }
   ],
   "source": [
    "import os\n",
    "from joblib import load\n",
    "WORKING_PATH = \"C:/Users/carlo/Projects/Astronomy Research/\"\n",
    "\n",
    "scalers = load(os.path.join(WORKING_PATH, \"Datasets/scalers.plk\"))\n",
    "\n",
    "scalers[\"encoded_components\"] = (\n",
    "    0,\n",
    "    1\n",
    ")\n",
    "\n",
    "print(scalers)"
   ]
  },
  {
   "cell_type": "code",
   "execution_count": null,
   "metadata": {},
   "outputs": [],
   "source": [
    "WORKING_PATH = \"C:/Users/carlo/Projects/Astronomy Research/\"\n",
    "training_dataset_path = os.path.join(WORKING_PATH, \"Datasets/training.h5\")\n",
    "training_dataset = pd.read_hdf(training_dataset_path, \"autoencoder\", start=0).astype(np.float32)\n",
    "\n",
    "z = training_dataset.mean()"
   ]
  },
  {
   "cell_type": "code",
   "execution_count": 2,
   "metadata": {},
   "outputs": [
    {
     "name": "stdout",
     "output_type": "stream",
     "text": [
      "    A   B\n",
      "0   1  11\n",
      "1   2  12\n",
      "2   3  13\n",
      "3   4  14\n",
      "4   5  15\n",
      "5   6  16\n",
      "6   7  17\n",
      "7   8  18\n",
      "8   9  19\n",
      "9  10  20\n",
      "0    12\n",
      "1    14\n",
      "2    16\n",
      "3    18\n",
      "4    20\n",
      "5    22\n",
      "6    24\n",
      "7    26\n",
      "8    28\n",
      "9    30\n",
      "dtype: int64\n"
     ]
    }
   ],
   "source": [
    "import pandas as pd\n",
    "\n",
    "\n",
    "data = {'A': range(1, 11), 'B': range(11, 21)}\n",
    "df = pd.DataFrame(data)\n",
    "\n",
    "print(df)\n",
    "print(df.sum(axis=1).mean())\n"
   ]
  }
 ],
 "metadata": {
  "kernelspec": {
   "display_name": "Python 3",
   "language": "python",
   "name": "python3"
  },
  "language_info": {
   "codemirror_mode": {
    "name": "ipython",
    "version": 3
   },
   "file_extension": ".py",
   "mimetype": "text/x-python",
   "name": "python",
   "nbconvert_exporter": "python",
   "pygments_lexer": "ipython3",
   "version": "3.11.9"
  }
 },
 "nbformat": 4,
 "nbformat_minor": 2
}
